{
  "nbformat": 4,
  "nbformat_minor": 0,
  "metadata": {
    "kernelspec": {
      "display_name": "Python 3",
      "language": "python",
      "name": "python3"
    },
    "language_info": {
      "codemirror_mode": {
        "name": "ipython",
        "version": 3
      },
      "file_extension": ".py",
      "mimetype": "text/x-python",
      "name": "python",
      "nbconvert_exporter": "python",
      "pygments_lexer": "ipython3",
      "version": "3.7.1"
    },
    "colab": {
      "name": " [EN]Lab 14.6-Stateful RNNs.ipynb",
      "provenance": []
    }
  },
  "cells": [
    {
      "cell_type": "markdown",
      "metadata": {
        "id": "J6zfA9QVWqhQ"
      },
      "source": [
        "# Stateful RNNs"
      ]
    },
    {
      "cell_type": "markdown",
      "metadata": {
        "id": "Wd8iqJk_WqhW"
      },
      "source": [
        "In this reading notebook you will learn how to retain the state of an RNN when processing long sequences."
      ]
    },
    {
      "cell_type": "code",
      "metadata": {
        "id": "82eY2WavWqhW",
        "outputId": "86a9f30e-2050-4c1b-8748-ddc653daf329",
        "colab": {
          "base_uri": "https://localhost:8080/",
          "height": 35
        }
      },
      "source": [
        "import tensorflow as tf\n",
        "tf.__version__"
      ],
      "execution_count": 1,
      "outputs": [
        {
          "output_type": "execute_result",
          "data": {
            "application/vnd.google.colaboratory.intrinsic+json": {
              "type": "string"
            },
            "text/plain": [
              "'2.6.0'"
            ]
          },
          "metadata": {},
          "execution_count": 1
        }
      ]
    },
    {
      "cell_type": "markdown",
      "metadata": {
        "id": "v4DrB7XjWqhX"
      },
      "source": [
        "So far you have trained RNNs on entire sequences, possibly of varying length. In some applications, such as financial time series modeling or real-time speech processing, the input sequence can be very long. \n",
        "\n",
        "One way to process such sequences is to simply chop up the sequences into separate batches. However, the internal state of the RNN would then normally be reset in between the batches. Persisting an RNN cell's state between batches is useful in such contexts."
      ]
    },
    {
      "cell_type": "markdown",
      "metadata": {
        "id": "JQ21-b3uWqhX"
      },
      "source": [
        "## Stateful and non-stateful RNN models\n",
        "We will begin by creating two versions of the same RNN model. The first is a regular RNN that does not retain its state."
      ]
    },
    {
      "cell_type": "code",
      "metadata": {
        "id": "jdJmHYmEWqhY"
      },
      "source": [
        "# Create a regular (non-stateful) RNN\n",
        "\n",
        "from tensorflow.keras.models import Sequential\n",
        "from tensorflow.keras.layers import GRU\n",
        "\n",
        "gru = Sequential([\n",
        "    GRU(5, input_shape=(None, 1), name='rnn')\n",
        "])"
      ],
      "execution_count": 2,
      "outputs": []
    },
    {
      "cell_type": "markdown",
      "metadata": {
        "id": "dPhTtf_qWqhY"
      },
      "source": [
        "To persist RNN cell states between batches, you can use the `stateful` argument when you initialize an RNN layer. The default value of this argument is `False`. This argument is available for all RNN layer types."
      ]
    },
    {
      "cell_type": "code",
      "metadata": {
        "id": "Ao3cIajEWqhY"
      },
      "source": [
        "# Create a stateful RNN\n",
        "\n",
        "stateful_gru = Sequential([\n",
        "    GRU(5, stateful=True, batch_input_shape=(2, None, 1), name='stateful_rnn')\n",
        "])"
      ],
      "execution_count": 3,
      "outputs": []
    },
    {
      "cell_type": "markdown",
      "metadata": {
        "id": "Em2yuaYhWqhY"
      },
      "source": [
        "Note that as well as setting `stateful=True`, we have also specified the `batch_input_shape`. This fixes the number of elements in a batch, as well as providing the sequence length and number of features. So the above model will always require a batch of 2 sequences.\n",
        "\n",
        "When using stateful RNNs, it is necessary to supply this argument to the first layer of a `Sequential` model. This is because the model will always assume that each element of every subsequent batch it receives will be a continuation of the sequence from the corresponding element in the previous batch.\n",
        "\n",
        "Another detail is that when defining a model with a stateful RNN using the functional API, you will need to specify the `batch_shape` argument as follows:"
      ]
    },
    {
      "cell_type": "code",
      "metadata": {
        "id": "hpA3_6PNWqhZ"
      },
      "source": [
        "# Redefine the same stateful RNN using the functional API\n",
        "\n",
        "from tensorflow.keras.models import Model\n",
        "from tensorflow.keras.layers import Input\n",
        "\n",
        "inputs = Input(batch_shape=(2, None, 1))\n",
        "outputs = GRU(5, stateful=True, name='stateful_rnn')(inputs)\n",
        "\n",
        "stateful_gru = Model(inputs=inputs, outputs=outputs)"
      ],
      "execution_count": 4,
      "outputs": []
    },
    {
      "cell_type": "markdown",
      "metadata": {
        "id": "zEH8AAFyWqhZ"
      },
      "source": [
        "### Inspect the RNN states\n",
        "We can inspect the RNN layer states by retrieving the recurrent layer from each model, and looking at the `states` property."
      ]
    },
    {
      "cell_type": "code",
      "metadata": {
        "id": "V7kDJMkuWqhZ",
        "outputId": "380a1ec6-6470-4332-b8b6-d5133ccf1d8b",
        "colab": {
          "base_uri": "https://localhost:8080/"
        }
      },
      "source": [
        "# Retrieve the RNN layer and inspect the internal state\n",
        "\n",
        "gru.get_layer('rnn').states"
      ],
      "execution_count": 5,
      "outputs": [
        {
          "output_type": "execute_result",
          "data": {
            "text/plain": [
              "[None]"
            ]
          },
          "metadata": {},
          "execution_count": 5
        }
      ]
    },
    {
      "cell_type": "code",
      "metadata": {
        "id": "1Ftu82rHWqha",
        "outputId": "1357442b-d762-4a77-b6d5-cb6e2375cc2f",
        "colab": {
          "base_uri": "https://localhost:8080/"
        }
      },
      "source": [
        "# Retrieve the RNN layer and inspect the internal state\n",
        "\n",
        "stateful_gru.get_layer('stateful_rnn').states"
      ],
      "execution_count": 6,
      "outputs": [
        {
          "output_type": "execute_result",
          "data": {
            "text/plain": [
              "[<tf.Variable 'stateful_rnn/Variable:0' shape=(2, 5) dtype=float32, numpy=\n",
              " array([[0., 0., 0., 0., 0.],\n",
              "        [0., 0., 0., 0., 0.]], dtype=float32)>]"
            ]
          },
          "metadata": {},
          "execution_count": 6
        }
      ]
    },
    {
      "cell_type": "markdown",
      "metadata": {
        "id": "5Ap_gag5Wqha"
      },
      "source": [
        "Note that the internal state of the stateful RNN has a state stored for each element in a batch, which is why the shape of the state Variable is `(2, 5)`."
      ]
    },
    {
      "cell_type": "markdown",
      "metadata": {
        "id": "i6XJldwjWqha"
      },
      "source": [
        "### Create a simple sequence dataset\n",
        "We will demonstrate the effect of statefulness on a simple sequence dataset consisting of two sequences."
      ]
    },
    {
      "cell_type": "code",
      "metadata": {
        "id": "S5A3PGydWqha",
        "outputId": "12dd3603-d18b-4d8c-f35b-f94ad4943b94",
        "colab": {
          "base_uri": "https://localhost:8080/"
        }
      },
      "source": [
        "# Create the sequence dataset\n",
        "\n",
        "sequence_data = tf.constant([\n",
        "    [[-4.], [-3.], [-2.], [-1.], [0.], [1.], [2.], [3.], [4.]],\n",
        "    [[-40.], [-30.], [-20.], [-10.], [0.], [10.], [20.], [30.], [40.]]\n",
        "], dtype=tf.float32)\n",
        "sequence_data.shape"
      ],
      "execution_count": 7,
      "outputs": [
        {
          "output_type": "execute_result",
          "data": {
            "text/plain": [
              "TensorShape([2, 9, 1])"
            ]
          },
          "metadata": {},
          "execution_count": 7
        }
      ]
    },
    {
      "cell_type": "markdown",
      "metadata": {
        "id": "gBntRKOrWqha"
      },
      "source": [
        "### Process the sequence batch with both models"
      ]
    },
    {
      "cell_type": "markdown",
      "metadata": {
        "id": "Dj5WI48MWqhb"
      },
      "source": [
        "Now see what happens when you pass the batch of sequences through either model:"
      ]
    },
    {
      "cell_type": "code",
      "metadata": {
        "id": "vTizBPF4Wqhb"
      },
      "source": [
        "# Process the batch with both models\n",
        "\n",
        "_1 = gru(sequence_data)\n",
        "_2 = stateful_gru(sequence_data)"
      ],
      "execution_count": 8,
      "outputs": []
    },
    {
      "cell_type": "code",
      "metadata": {
        "id": "FozFAKBYWqhb",
        "outputId": "09ca0be5-bac6-4b4c-f324-6a5e1b2b9774",
        "colab": {
          "base_uri": "https://localhost:8080/"
        }
      },
      "source": [
        "# Retrieve the RNN layer and inspect the internal state\n",
        "\n",
        "gru.get_layer('rnn').states"
      ],
      "execution_count": 9,
      "outputs": [
        {
          "output_type": "execute_result",
          "data": {
            "text/plain": [
              "[None]"
            ]
          },
          "metadata": {},
          "execution_count": 9
        }
      ]
    },
    {
      "cell_type": "code",
      "metadata": {
        "id": "Wr9DHFYEWqhb",
        "outputId": "6dd9208f-ccd0-40ce-a8d9-c07b38ef6160",
        "colab": {
          "base_uri": "https://localhost:8080/"
        }
      },
      "source": [
        "# Retrieve the RNN layer and inspect the internal state\n",
        "\n",
        "stateful_gru.get_layer('stateful_rnn').states"
      ],
      "execution_count": 10,
      "outputs": [
        {
          "output_type": "execute_result",
          "data": {
            "text/plain": [
              "[<tf.Variable 'stateful_rnn/Variable:0' shape=(2, 5) dtype=float32, numpy=\n",
              " array([[ 0.34016928, -0.01167974, -0.93255603, -0.8325789 , -0.28201267],\n",
              "        [ 0.9905516 ,  0.09881491, -1.        , -0.99931425,  0.5392831 ]],\n",
              "       dtype=float32)>]"
            ]
          },
          "metadata": {},
          "execution_count": 10
        }
      ]
    },
    {
      "cell_type": "markdown",
      "metadata": {
        "id": "jHvKGQlsWqhb"
      },
      "source": [
        "The stateful RNN model has updated and retained its state after having processed the input sequence batch. This internal state could then be used as the initial state for processing a continuation of both sequences in the next batch."
      ]
    },
    {
      "cell_type": "markdown",
      "metadata": {
        "id": "XgAomqxoWqhc"
      },
      "source": [
        "### Resetting the internal state\n",
        "If you need a stateful RNN to forget (or re-initialise) its state, then you can call an RNN layer's `reset_states()` method."
      ]
    },
    {
      "cell_type": "code",
      "metadata": {
        "id": "m7huA88yWqhc"
      },
      "source": [
        "# Reset the internal state of the stateful RNN model\n",
        "\n",
        "stateful_gru.get_layer('stateful_rnn').reset_states()"
      ],
      "execution_count": 11,
      "outputs": []
    },
    {
      "cell_type": "code",
      "metadata": {
        "id": "JJnawHfNWqhc",
        "outputId": "74c8cc0f-2250-4e7f-af94-bafa0cbb00b9",
        "colab": {
          "base_uri": "https://localhost:8080/"
        }
      },
      "source": [
        "# Retrieve the RNN layer and inspect the internal state\n",
        "\n",
        "stateful_gru.get_layer('stateful_rnn').states"
      ],
      "execution_count": 12,
      "outputs": [
        {
          "output_type": "execute_result",
          "data": {
            "text/plain": [
              "[<tf.Variable 'stateful_rnn/Variable:0' shape=(2, 5) dtype=float32, numpy=\n",
              " array([[0., 0., 0., 0., 0.],\n",
              "        [0., 0., 0., 0., 0.]], dtype=float32)>]"
            ]
          },
          "metadata": {},
          "execution_count": 12
        }
      ]
    },
    {
      "cell_type": "markdown",
      "metadata": {
        "id": "BHeb9mQUWqhc"
      },
      "source": [
        "Note that `reset_states()` resets the state to `0.`, which is the default initial state for the RNN layers in TensorFlow."
      ]
    },
    {
      "cell_type": "markdown",
      "metadata": {
        "id": "jcpyNSPxWqhc"
      },
      "source": [
        "### Retaining internal state across batches\n",
        "Passing a sequence to a stateful layer as several subsequences produces the same final output as passing the whole sequence at once."
      ]
    },
    {
      "cell_type": "code",
      "metadata": {
        "id": "61jqh5L3Wqhd",
        "outputId": "c2af34fc-bee6-4e0c-d740-98cef5239023",
        "colab": {
          "base_uri": "https://localhost:8080/"
        }
      },
      "source": [
        "# Reset the internal state of the stateful RNN model and process the full sequences\n",
        "\n",
        "stateful_gru.get_layer('stateful_rnn').reset_states()\n",
        "_ = stateful_gru(sequence_data)\n",
        "stateful_gru.get_layer('stateful_rnn').states"
      ],
      "execution_count": 13,
      "outputs": [
        {
          "output_type": "execute_result",
          "data": {
            "text/plain": [
              "[<tf.Variable 'stateful_rnn/Variable:0' shape=(2, 5) dtype=float32, numpy=\n",
              " array([[ 0.34016928, -0.01167974, -0.93255603, -0.8325789 , -0.28201267],\n",
              "        [ 0.9905516 ,  0.09881491, -1.        , -0.99931425,  0.5392831 ]],\n",
              "       dtype=float32)>]"
            ]
          },
          "metadata": {},
          "execution_count": 13
        }
      ]
    },
    {
      "cell_type": "code",
      "metadata": {
        "id": "qSi2YLorWqhd",
        "outputId": "0b56f2be-3828-449e-e21a-a53adbbddb69",
        "colab": {
          "base_uri": "https://localhost:8080/"
        }
      },
      "source": [
        "# Break the sequences into batches\n",
        "\n",
        "sequence_batch1 = sequence_data[:, :3, :]\n",
        "sequence_batch2 = sequence_data[:, 3:6, :]\n",
        "sequence_batch3 = sequence_data[:, 6:, :]\n",
        "\n",
        "print(\"First batch:\", sequence_batch1)\n",
        "print(\"\\nSecond batch:\", sequence_batch2)\n",
        "print(\"\\nThird batch:\", sequence_batch3)"
      ],
      "execution_count": 14,
      "outputs": [
        {
          "output_type": "stream",
          "name": "stdout",
          "text": [
            "First batch: tf.Tensor(\n",
            "[[[ -4.]\n",
            "  [ -3.]\n",
            "  [ -2.]]\n",
            "\n",
            " [[-40.]\n",
            "  [-30.]\n",
            "  [-20.]]], shape=(2, 3, 1), dtype=float32)\n",
            "\n",
            "Second batch: tf.Tensor(\n",
            "[[[ -1.]\n",
            "  [  0.]\n",
            "  [  1.]]\n",
            "\n",
            " [[-10.]\n",
            "  [  0.]\n",
            "  [ 10.]]], shape=(2, 3, 1), dtype=float32)\n",
            "\n",
            "Third batch: tf.Tensor(\n",
            "[[[ 2.]\n",
            "  [ 3.]\n",
            "  [ 4.]]\n",
            "\n",
            " [[20.]\n",
            "  [30.]\n",
            "  [40.]]], shape=(2, 3, 1), dtype=float32)\n"
          ]
        }
      ]
    },
    {
      "cell_type": "markdown",
      "metadata": {
        "id": "mqsVuqsoWqhd"
      },
      "source": [
        "Note that the first element in every batch is part of the same sequence, and the second element in every batch is part of the same sequence."
      ]
    },
    {
      "cell_type": "code",
      "metadata": {
        "id": "8D3QV_kKWqhd",
        "outputId": "4729f8e7-3047-4c6c-9a58-46282726d1ed",
        "colab": {
          "base_uri": "https://localhost:8080/"
        }
      },
      "source": [
        "# Reset the internal state of the stateful RNN model and process the batches in order\n",
        "\n",
        "stateful_gru.get_layer('stateful_rnn').reset_states()\n",
        "_ = stateful_gru(sequence_batch1)\n",
        "_ = stateful_gru(sequence_batch2)\n",
        "_ = stateful_gru(sequence_batch3)\n",
        "stateful_gru.get_layer('stateful_rnn').states"
      ],
      "execution_count": 15,
      "outputs": [
        {
          "output_type": "execute_result",
          "data": {
            "text/plain": [
              "[<tf.Variable 'stateful_rnn/Variable:0' shape=(2, 5) dtype=float32, numpy=\n",
              " array([[ 0.34016928, -0.01167974, -0.93255603, -0.8325789 , -0.28201267],\n",
              "        [ 0.9905516 ,  0.09881491, -1.        , -0.99931425,  0.5392831 ]],\n",
              "       dtype=float32)>]"
            ]
          },
          "metadata": {},
          "execution_count": 15
        }
      ]
    },
    {
      "cell_type": "markdown",
      "metadata": {
        "id": "ka2TVwEcWqhd"
      },
      "source": [
        "Notice that the internal state of the stateful RNN after processing each batch is the same as it was earlier when we processed the entire sequence at once.\n",
        "\n",
        "This property can be used when training stateful RNNs, if we ensure that each example in a batch is a continuation of the same sequence as the corresponding example in the previous batch."
      ]
    },
    {
      "cell_type": "markdown",
      "metadata": {
        "id": "8pnu_d24Wqhe"
      },
      "source": [
        "## Further reading and resources\n",
        "* https://www.tensorflow.org/guide/keras/rnn#cross-batch_statefulness"
      ]
    }
  ]
}