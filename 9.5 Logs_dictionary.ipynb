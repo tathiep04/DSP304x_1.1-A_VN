{
 "cells": [
  {
   "cell_type": "markdown",
   "metadata": {
    "id": "XzcEqEy2Gi4T"
   },
   "source": [
    "# Using the logs dictionary\n",
    "\n",
    "In this reading, we will learn how to take advantage of the `logs` dictionary in Keras to define our own callbacks and check the progress of a model."
   ]
  },
  {
   "cell_type": "code",
   "execution_count": 1,
   "metadata": {
    "id": "sHVZbRp-Gi4W"
   },
   "outputs": [
    {
     "name": "stdout",
     "output_type": "stream",
     "text": [
      "1.14.0\n"
     ]
    }
   ],
   "source": [
    "import tensorflow as tf\n",
    "print(tf.__version__)"
   ]
  },
  {
   "cell_type": "markdown",
   "metadata": {
    "id": "6Me33YWcGi4X"
   },
   "source": [
    "The `logs` dictionary stores the loss value, along with all of the metrics we are using at the end of a batch or epoch.\n",
    "\n",
    "We can incorporate information from the `logs` dictionary into our own custom callbacks.\n",
    "\n",
    "Let's see this in action in the context of a model we will construct and fit to the `sklearn` diabetes dataset that we have been using in this module.\n",
    "\n",
    "Let's first import the dataset, and split it into the training and test sets."
   ]
  },
  {
   "cell_type": "code",
   "execution_count": 2,
   "metadata": {
    "id": "FgNOBmdHGi4X"
   },
   "outputs": [],
   "source": [
    "# Load the diabetes dataset\n",
    "\n",
    "from sklearn.datasets import load_diabetes\n",
    "\n",
    "diabetes_dataset = load_diabetes()"
   ]
  },
  {
   "cell_type": "code",
   "execution_count": 3,
   "metadata": {
    "id": "CoYyEinPGi4Y"
   },
   "outputs": [],
   "source": [
    "# Save the input and target variables\n",
    "\n",
    "from sklearn.model_selection import train_test_split\n",
    "\n",
    "data = diabetes_dataset['data']\n",
    "targets = diabetes_dataset['target']"
   ]
  },
  {
   "cell_type": "code",
   "execution_count": 4,
   "metadata": {
    "id": "Yp5i7azbGi4Z"
   },
   "outputs": [],
   "source": [
    "# Split the data set into training and test sets\n",
    "\n",
    "train_data, test_data, train_targets, test_targets = train_test_split(data, targets, test_size=0.1)"
   ]
  },
  {
   "cell_type": "markdown",
   "metadata": {
    "id": "hEROpIJ_Gi4Z"
   },
   "source": [
    "Now we construct our model."
   ]
  },
  {
   "cell_type": "code",
   "execution_count": 5,
   "metadata": {
    "id": "4b_-RGZ2Gi4a"
   },
   "outputs": [
    {
     "name": "stdout",
     "output_type": "stream",
     "text": [
      "WARNING:tensorflow:From C:\\Users\\Dell\\Anaconda3\\lib\\site-packages\\tensorflow\\python\\ops\\init_ops.py:1251: calling VarianceScaling.__init__ (from tensorflow.python.ops.init_ops) with dtype is deprecated and will be removed in a future version.\n",
      "Instructions for updating:\n",
      "Call initializer instance with the dtype argument instead of passing it to the constructor\n"
     ]
    }
   ],
   "source": [
    "# Build the model\n",
    "\n",
    "from tensorflow.keras.models import Sequential\n",
    "from tensorflow.keras.layers import Dense\n",
    "\n",
    "model = tf.keras.Sequential([\n",
    "    Dense(128, activation='relu', input_shape=(train_data.shape[1],)),\n",
    "    Dense(64,activation='relu'),\n",
    "    tf.keras.layers.BatchNormalization(),\n",
    "    Dense(64, activation='relu'),\n",
    "    Dense(64, activation='relu'),\n",
    "    Dense(1)        \n",
    "])"
   ]
  },
  {
   "cell_type": "markdown",
   "metadata": {
    "id": "CykL_qZpGi4a"
   },
   "source": [
    "We now compile the model, with\n",
    "* Mean squared error as the loss function,\n",
    "* the Adam optimizer, and \n",
    "* Mean absolute error (`mae`) as a metric."
   ]
  },
  {
   "cell_type": "code",
   "execution_count": 6,
   "metadata": {
    "id": "qLpNldrRGi4b"
   },
   "outputs": [],
   "source": [
    "# Compile the model\n",
    "    \n",
    "model.compile(loss='mse', optimizer=\"adam\", metrics=['mae'])"
   ]
  },
  {
   "cell_type": "markdown",
   "metadata": {
    "id": "GGM-XAkqGi4b"
   },
   "source": [
    "### Defining a custom callback\n",
    "\n",
    "Now we define our custom callback using the `logs` dictionary to access the loss and metric values."
   ]
  },
  {
   "cell_type": "code",
   "execution_count": 7,
   "metadata": {
    "id": "kTPVAIVdGi4c"
   },
   "outputs": [],
   "source": [
    "# Create the custom callback\n",
    "\n",
    "class LossAndMetricCallback(tf.keras.callbacks.Callback):\n",
    "\n",
    "    # Print the loss after every second batch in the training set\n",
    "    def on_train_batch_end(self, batch, logs=None):\n",
    "        if batch %2 ==0:\n",
    "            print('\\n After batch {}, the loss is {:7.2f}.'.format(batch, logs['loss']))\n",
    "    \n",
    "    # Print the loss after each batch in the test set\n",
    "    def on_test_batch_end(self, batch, logs=None):\n",
    "        print('\\n After batch {}, the loss is {:7.2f}.'.format(batch, logs['loss']))\n",
    "\n",
    "    # Print the loss and mean absolute error after each epoch\n",
    "    def on_epoch_end(self, epoch, logs=None):\n",
    "        print('Epoch {}: Average loss is {:7.2f}, mean absolute error is {:7.2f}.'.format(epoch, logs['loss'], logs['mean_absolute_error']))\n",
    "    \n",
    "    # Notify the user when prediction has finished on each batch\n",
    "    def on_predict_batch_end(self,batch, logs=None):\n",
    "        print(\"Finished prediction on batch {}!\".format(batch))"
   ]
  },
  {
   "cell_type": "markdown",
   "metadata": {
    "id": "6sDlRTBPGi4c"
   },
   "source": [
    "We now fit the model to the data, and specify that we would like to use our custom callback `LossAndMetricCallback()`."
   ]
  },
  {
   "cell_type": "code",
   "execution_count": 8,
   "metadata": {
    "id": "YCFpHY7xGi4d"
   },
   "outputs": [
    {
     "name": "stdout",
     "output_type": "stream",
     "text": [
      "\n",
      " After batch 0, the loss is 27216.08.\n",
      "\n",
      " After batch 2, the loss is 30909.80.\n",
      "Epoch 0: Average loss is 29004.01, mean absolute error is  152.26.\n",
      "\n",
      " After batch 0, the loss is 30052.72.\n",
      "\n",
      " After batch 2, the loss is 26658.32.\n",
      "Epoch 1: Average loss is 28917.20, mean absolute error is  152.01.\n",
      "\n",
      " After batch 0, the loss is 33043.02.\n",
      "\n",
      " After batch 2, the loss is 24954.60.\n",
      "Epoch 2: Average loss is 28843.28, mean absolute error is  151.79.\n",
      "\n",
      " After batch 0, the loss is 32557.34.\n",
      "\n",
      " After batch 2, the loss is 28716.52.\n",
      "Epoch 3: Average loss is 28732.86, mean absolute error is  151.48.\n",
      "\n",
      " After batch 0, the loss is 27985.96.\n",
      "\n",
      " After batch 2, the loss is 24890.43.\n",
      "Epoch 4: Average loss is 28564.70, mean absolute error is  151.01.\n",
      "\n",
      " After batch 0, the loss is 30395.21.\n",
      "\n",
      " After batch 2, the loss is 29775.61.\n",
      "Epoch 5: Average loss is 28307.98, mean absolute error is  150.29.\n",
      "\n",
      " After batch 0, the loss is 29762.10.\n",
      "\n",
      " After batch 2, the loss is 25867.03.\n",
      "Epoch 6: Average loss is 27938.87, mean absolute error is  149.25.\n",
      "\n",
      " After batch 0, the loss is 29165.76.\n",
      "\n",
      " After batch 2, the loss is 29610.13.\n",
      "Epoch 7: Average loss is 27428.51, mean absolute error is  147.81.\n",
      "\n",
      " After batch 0, the loss is 25612.17.\n",
      "\n",
      " After batch 2, the loss is 25674.24.\n",
      "Epoch 8: Average loss is 26737.34, mean absolute error is  145.86.\n",
      "\n",
      " After batch 0, the loss is 29227.44.\n",
      "\n",
      " After batch 2, the loss is 24730.65.\n",
      "Epoch 9: Average loss is 25852.08, mean absolute error is  143.29.\n",
      "\n",
      " After batch 0, the loss is 25121.22.\n",
      "\n",
      " After batch 2, the loss is 24373.31.\n",
      "Epoch 10: Average loss is 24722.69, mean absolute error is  139.99.\n",
      "\n",
      " After batch 0, the loss is 21290.76.\n",
      "\n",
      " After batch 2, the loss is 22262.26.\n",
      "Epoch 11: Average loss is 23354.75, mean absolute error is  135.85.\n",
      "\n",
      " After batch 0, the loss is 22075.38.\n",
      "\n",
      " After batch 2, the loss is 20885.90.\n",
      "Epoch 12: Average loss is 21763.07, mean absolute error is  130.72.\n",
      "\n",
      " After batch 0, the loss is 20019.32.\n",
      "\n",
      " After batch 2, the loss is 21544.72.\n",
      "Epoch 13: Average loss is 19928.01, mean absolute error is  124.39.\n",
      "\n",
      " After batch 0, the loss is 17155.97.\n",
      "\n",
      " After batch 2, the loss is 15978.01.\n",
      "Epoch 14: Average loss is 17833.37, mean absolute error is  116.90.\n",
      "\n",
      " After batch 0, the loss is 11888.56.\n",
      "\n",
      " After batch 2, the loss is 18162.61.\n",
      "Epoch 15: Average loss is 15813.31, mean absolute error is  108.39.\n",
      "\n",
      " After batch 0, the loss is 12953.03.\n",
      "\n",
      " After batch 2, the loss is 17766.50.\n",
      "Epoch 16: Average loss is 13775.43, mean absolute error is   99.18.\n",
      "\n",
      " After batch 0, the loss is 11283.76.\n",
      "\n",
      " After batch 2, the loss is 12815.07.\n",
      "Epoch 17: Average loss is 11504.63, mean absolute error is   88.06.\n",
      "\n",
      " After batch 0, the loss is 9381.48.\n",
      "\n",
      " After batch 2, the loss is 7215.67.\n",
      "Epoch 18: Average loss is 9532.57, mean absolute error is   78.29.\n",
      "\n",
      " After batch 0, the loss is 7364.40.\n",
      "\n",
      " After batch 2, the loss is 8367.15.\n",
      "Epoch 19: Average loss is 7740.51, mean absolute error is   68.77.\n"
     ]
    }
   ],
   "source": [
    "# Train the model\n",
    "\n",
    "history = model.fit(train_data, train_targets, epochs=20,\n",
    "                    batch_size=100, callbacks=[LossAndMetricCallback()], verbose=False)"
   ]
  },
  {
   "cell_type": "markdown",
   "metadata": {
    "id": "aG53ltC4Gi4h"
   },
   "source": [
    "We can also use our callback in the `evaluate` function..."
   ]
  },
  {
   "cell_type": "code",
   "execution_count": 9,
   "metadata": {
    "id": "6hzWCY9QGi4h"
   },
   "outputs": [
    {
     "name": "stdout",
     "output_type": "stream",
     "text": [
      "\n",
      " After batch 0, the loss is 25308.06.\n",
      "\n",
      " After batch 1, the loss is 14166.97.\n",
      "\n",
      " After batch 2, the loss is 15634.78.\n",
      "\n",
      " After batch 3, the loss is 24213.35.\n",
      "\n",
      " After batch 4, the loss is 22390.85.\n"
     ]
    }
   ],
   "source": [
    "# Evaluate the model\n",
    "\n",
    "model_eval = model.evaluate(test_data, test_targets, batch_size=10, \n",
    "                            callbacks=[LossAndMetricCallback()], verbose=False)"
   ]
  },
  {
   "cell_type": "markdown",
   "metadata": {
    "id": "EhjDRgaMGi4i"
   },
   "source": [
    "...And also the `predict` function."
   ]
  },
  {
   "cell_type": "code",
   "execution_count": 10,
   "metadata": {
    "id": "vs_Os-mzGi4i"
   },
   "outputs": [
    {
     "name": "stdout",
     "output_type": "stream",
     "text": [
      "Finished prediction on batch 0!\n",
      "Finished prediction on batch 1!\n",
      "Finished prediction on batch 2!\n",
      "Finished prediction on batch 3!\n",
      "Finished prediction on batch 4!\n"
     ]
    }
   ],
   "source": [
    "# Get predictions from the model\n",
    "\n",
    "model_pred = model.predict(test_data, batch_size=10,\n",
    "                           callbacks=[LossAndMetricCallback()], verbose=False)"
   ]
  },
  {
   "cell_type": "markdown",
   "metadata": {
    "id": "LjhWCYw6Gi4i"
   },
   "source": [
    "### Application - learning rate scheduler\n",
    "Let's now look at a more sophisticated custom callback. \n",
    "\n",
    "We are going to define a callback to change the learning rate of the optimiser of a model during training. We will do this by specifying the epochs and new learning rates where we would like it to be changed.\n",
    "\n",
    "First we define the auxillary function that returns the learning rate for each epoch based on our schedule."
   ]
  },
  {
   "cell_type": "code",
   "execution_count": 11,
   "metadata": {
    "id": "XjzdgvFzGi4j"
   },
   "outputs": [],
   "source": [
    "# Define the learning rate schedule. The tuples below are (start_epoch, new_learning_rate)\n",
    "\n",
    "lr_schedule = [\n",
    "    (4, 0.03), (7, 0.02), (11, 0.005), (15, 0.007)\n",
    "]\n",
    "\n",
    "def get_new_epoch_lr(epoch, lr):\n",
    "    # Checks to see if the input epoch is listed in the learning rate schedule \n",
    "    # and if so, returns index in lr_schedule\n",
    "    epoch_in_sched = [i for i in range(len(lr_schedule)) if lr_schedule[i][0]==int(epoch)]\n",
    "    if len(epoch_in_sched)>0:\n",
    "        # If it is, return the learning rate corresponding to the epoch\n",
    "        return lr_schedule[epoch_in_sched[0]][1]\n",
    "    else:\n",
    "        # Otherwise, return the existing learning rate\n",
    "        return lr"
   ]
  },
  {
   "cell_type": "markdown",
   "metadata": {
    "id": "tdGBjXRjGi4j"
   },
   "source": [
    "Let's now define the callback itself."
   ]
  },
  {
   "cell_type": "code",
   "execution_count": 12,
   "metadata": {
    "id": "7k2SoqkYGi4k"
   },
   "outputs": [],
   "source": [
    "# Define the custom callback\n",
    "\n",
    "class LRScheduler(tf.keras.callbacks.Callback):\n",
    "    \n",
    "    def __init__(self, new_lr):\n",
    "        super(LRScheduler, self).__init__()\n",
    "        # Add the new learning rate function to our callback\n",
    "        self.new_lr = new_lr\n",
    "\n",
    "    def on_epoch_begin(self, epoch, logs=None):\n",
    "        # Make sure that the optimizer we have chosen has a learning rate, and raise an error if not\n",
    "        if not hasattr(self.model.optimizer, 'lr'):\n",
    "              raise ValueError('Error: Optimizer does not have a learning rate.')\n",
    "                \n",
    "        # Get the current learning rate\n",
    "        curr_rate = float(tf.keras.backend.get_value(self.model.optimizer.lr))\n",
    "        \n",
    "        # Call the auxillary function to get the scheduled learning rate for the current epoch\n",
    "        scheduled_rate = self.new_lr(epoch, curr_rate)\n",
    "\n",
    "        # Set the learning rate to the scheduled learning rate\n",
    "        tf.keras.backend.set_value(self.model.optimizer.lr, scheduled_rate)\n",
    "        print('Learning rate for epoch {} is {:7.3f}'.format(epoch, scheduled_rate))"
   ]
  },
  {
   "cell_type": "markdown",
   "metadata": {
    "id": "ndj0uX44Gi4k"
   },
   "source": [
    "Let's now train the model again with our new callback. "
   ]
  },
  {
   "cell_type": "code",
   "execution_count": 13,
   "metadata": {
    "id": "_GbjmVkrGi4l"
   },
   "outputs": [],
   "source": [
    "# Build the same model as before\n",
    "\n",
    "new_model = tf.keras.Sequential([\n",
    "    Dense(128, activation='relu', input_shape=(train_data.shape[1],)),\n",
    "    Dense(64,activation='relu'),\n",
    "    tf.keras.layers.BatchNormalization(),\n",
    "    Dense(64, activation='relu'),\n",
    "    Dense(64, activation='relu'),\n",
    "    Dense(1)        \n",
    "])"
   ]
  },
  {
   "cell_type": "code",
   "execution_count": 14,
   "metadata": {
    "id": "CKqzIDnEGi4l"
   },
   "outputs": [],
   "source": [
    "# Compile the model\n",
    "\n",
    "new_model.compile(loss='mse',\n",
    "                optimizer=\"adam\",\n",
    "                metrics=['mae', 'mse'])"
   ]
  },
  {
   "cell_type": "code",
   "execution_count": 15,
   "metadata": {
    "id": "Q60_G0O8Gi4m"
   },
   "outputs": [
    {
     "name": "stdout",
     "output_type": "stream",
     "text": [
      "Learning rate for epoch 0 is   0.001\n",
      "Learning rate for epoch 1 is   0.001\n",
      "Learning rate for epoch 2 is   0.001\n",
      "Learning rate for epoch 3 is   0.001\n",
      "Learning rate for epoch 4 is   0.030\n",
      "Learning rate for epoch 5 is   0.030\n",
      "Learning rate for epoch 6 is   0.030\n",
      "Learning rate for epoch 7 is   0.020\n",
      "Learning rate for epoch 8 is   0.020\n",
      "Learning rate for epoch 9 is   0.020\n",
      "Learning rate for epoch 10 is   0.020\n",
      "Learning rate for epoch 11 is   0.005\n",
      "Learning rate for epoch 12 is   0.005\n",
      "Learning rate for epoch 13 is   0.005\n",
      "Learning rate for epoch 14 is   0.005\n",
      "Learning rate for epoch 15 is   0.007\n",
      "Learning rate for epoch 16 is   0.007\n",
      "Learning rate for epoch 17 is   0.007\n",
      "Learning rate for epoch 18 is   0.007\n",
      "Learning rate for epoch 19 is   0.007\n"
     ]
    }
   ],
   "source": [
    "# Fit the model with our learning rate scheduler callback\n",
    "\n",
    "new_history = new_model.fit(train_data, train_targets, epochs=20,\n",
    "                            batch_size=100, callbacks=[LRScheduler(get_new_epoch_lr)], verbose=False)"
   ]
  },
  {
   "cell_type": "markdown",
   "metadata": {
    "id": "HOVlMlWGGi4m"
   },
   "source": [
    "### Further reading and resources\n",
    "* https://www.tensorflow.org/guide/keras/custom_callback\n",
    "* https://www.tensorflow.org/api_docs/python/tf/keras/callbacks/Callback"
   ]
  }
 ],
 "metadata": {
  "colab": {
   "name": "Logs dictionary.ipynb",
   "provenance": []
  },
  "kernelspec": {
   "display_name": "Python 3",
   "language": "python",
   "name": "python3"
  },
  "language_info": {
   "codemirror_mode": {
    "name": "ipython",
    "version": 3
   },
   "file_extension": ".py",
   "mimetype": "text/x-python",
   "name": "python",
   "nbconvert_exporter": "python",
   "pygments_lexer": "ipython3",
   "version": "3.7.3"
  }
 },
 "nbformat": 4,
 "nbformat_minor": 4
}
