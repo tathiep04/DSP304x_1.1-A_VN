{
 "cells": [
  {
   "cell_type": "markdown",
   "metadata": {
    "id": "R8EuPVDK0oXX"
   },
   "source": [
    "# Device placement\n"
   ]
  },
  {
   "cell_type": "markdown",
   "metadata": {
    "id": "SMepbBP-0oXb"
   },
   "source": [
    "In this reading, we are going to be looking at device placement. We will see how to access the device associated to a given tensor, and compare the use of GPUs and CPUs.\n",
    "\n",
    "When running this notebook, ensure that the GPU runtime type is selected (Runtime -> Change runtime type)."
   ]
  },
  {
   "cell_type": "code",
   "execution_count": 1,
   "metadata": {
    "colab": {
     "base_uri": "https://localhost:8080/"
    },
    "id": "cGJhiWHQ0oXd",
    "outputId": "69adb8f8-cf7f-4044-c8aa-f4db09e8fbe7"
   },
   "outputs": [
    {
     "name": "stderr",
     "output_type": "stream",
     "text": [
      "ERROR: Could not install packages due to an OSError: [Errno 2] No such file or directory: 'C:\\\\Users\\\\Dell\\\\AppData\\\\Local\\\\Temp\\\\pip-req-tracker-tg7rcsdg\\\\593169e319021cf29d0f2cce61e62bbb4abb5d79beff9915d4f13c7f'\n",
      "\n"
     ]
    },
    {
     "name": "stdout",
     "output_type": "stream",
     "text": [
      "Collecting tensorflow==2.6.0\n",
      "  Downloading tensorflow-2.6.0-cp38-cp38-win_amd64.whl (423.2 MB)\n",
      "Requirement already satisfied: opt-einsum~=3.3.0 in c:\\users\\dell\\anaconda3\\envs\\tf-gpu\\lib\\site-packages (from tensorflow==2.6.0) (3.3.0)\n",
      "Collecting clang~=5.0\n",
      "  Downloading clang-5.0.tar.gz (30 kB)\n",
      "Requirement already satisfied: termcolor~=1.1.0 in c:\\users\\dell\\anaconda3\\envs\\tf-gpu\\lib\\site-packages (from tensorflow==2.6.0) (1.1.0)\n",
      "Collecting keras~=2.6\n",
      "  Downloading keras-2.6.0-py2.py3-none-any.whl (1.3 MB)\n",
      "Collecting tensorflow-estimator~=2.6\n",
      "  Downloading tensorflow_estimator-2.6.0-py2.py3-none-any.whl (462 kB)\n",
      "Collecting tensorboard~=2.6\n",
      "  Downloading tensorboard-2.6.0-py3-none-any.whl (5.6 MB)\n",
      "Requirement already satisfied: six~=1.15.0 in c:\\users\\dell\\anaconda3\\envs\\tf-gpu\\lib\\site-packages (from tensorflow==2.6.0) (1.15.0)\n",
      "Collecting h5py~=3.1.0\n",
      "  Downloading h5py-3.1.0-cp38-cp38-win_amd64.whl (2.7 MB)\n",
      "2.3.0\n"
     ]
    }
   ],
   "source": [
    "! pip install tensorflow==2.6.0\n",
    "import tensorflow as tf\n",
    "print(tf.__version__)"
   ]
  },
  {
   "cell_type": "markdown",
   "metadata": {
    "id": "o07Lk8BE27-6"
   },
   "source": [
    "## Get the physical devices"
   ]
  },
  {
   "cell_type": "markdown",
   "metadata": {
    "id": "bw5wPXyy2Zwp"
   },
   "source": [
    "First, we can list the physical devices available."
   ]
  },
  {
   "cell_type": "code",
   "execution_count": 2,
   "metadata": {
    "colab": {
     "base_uri": "https://localhost:8080/"
    },
    "id": "rB-00SsB2Z8v",
    "outputId": "85216569-011d-434e-c764-e9b0b288c9af"
   },
   "outputs": [
    {
     "data": {
      "text/plain": [
       "[PhysicalDevice(name='/physical_device:CPU:0', device_type='CPU')]"
      ]
     },
     "execution_count": 2,
     "metadata": {},
     "output_type": "execute_result"
    }
   ],
   "source": [
    "# List all physical devices\n",
    "\n",
    "tf.config.list_physical_devices()"
   ]
  },
  {
   "cell_type": "markdown",
   "metadata": {
    "id": "GBfa_PEw0oXk"
   },
   "source": [
    "If you have enabled the GPU runtime, then you should see the GPU device in the above list.\n",
    "\n",
    "We can also check specifically for the GPU or CPU devices."
   ]
  },
  {
   "cell_type": "code",
   "execution_count": 3,
   "metadata": {
    "colab": {
     "base_uri": "https://localhost:8080/"
    },
    "id": "2FgViTqb0oXn",
    "outputId": "9a317d6c-e90b-4fcc-db73-6e04b6e0a226"
   },
   "outputs": [
    {
     "data": {
      "text/plain": [
       "[]"
      ]
     },
     "execution_count": 3,
     "metadata": {},
     "output_type": "execute_result"
    }
   ],
   "source": [
    "# Check for GPU devices\n",
    "\n",
    "tf.config.list_physical_devices('GPU')"
   ]
  },
  {
   "cell_type": "code",
   "execution_count": 4,
   "metadata": {
    "colab": {
     "base_uri": "https://localhost:8080/"
    },
    "id": "N857-C_B2yMa",
    "outputId": "3cfb4bb1-099a-41a2-e04f-69b68f440f06"
   },
   "outputs": [
    {
     "data": {
      "text/plain": [
       "[PhysicalDevice(name='/physical_device:CPU:0', device_type='CPU')]"
      ]
     },
     "execution_count": 4,
     "metadata": {},
     "output_type": "execute_result"
    }
   ],
   "source": [
    "# Check for CPU devices\n",
    "\n",
    "tf.config.list_physical_devices('CPU')"
   ]
  },
  {
   "cell_type": "markdown",
   "metadata": {
    "id": "GStCHnkx0oXs"
   },
   "source": [
    "We can get the GPU device name as follows:"
   ]
  },
  {
   "cell_type": "code",
   "execution_count": 5,
   "metadata": {
    "colab": {
     "base_uri": "https://localhost:8080/",
     "height": 35
    },
    "id": "LlT6kf810oXu",
    "outputId": "f954f3a1-b8e0-4ac0-d2a9-d6329310392e"
   },
   "outputs": [
    {
     "data": {
      "text/plain": [
       "''"
      ]
     },
     "execution_count": 5,
     "metadata": {},
     "output_type": "execute_result"
    }
   ],
   "source": [
    "# Get the GPU device name\n",
    "\n",
    "tf.test.gpu_device_name()"
   ]
  },
  {
   "cell_type": "markdown",
   "metadata": {
    "id": "4FNvARDH3KlC"
   },
   "source": [
    "## Placement of Tensor operations"
   ]
  },
  {
   "cell_type": "markdown",
   "metadata": {
    "id": "zB7qxgNL0oYA"
   },
   "source": [
    "TensorFlow will automatically allocate Tensor operations to a physical device, and will handle the copying between CPU and GPU memory if necessary. \n",
    "\n",
    "Let's define a random Tensor:"
   ]
  },
  {
   "cell_type": "code",
   "execution_count": 6,
   "metadata": {
    "id": "FQrsztEl0oYB"
   },
   "outputs": [],
   "source": [
    "# Define a Tensor\n",
    "\n",
    "x = tf.random.uniform([3, 3])"
   ]
  },
  {
   "cell_type": "markdown",
   "metadata": {
    "id": "MTni7OPe0oYF"
   },
   "source": [
    "We can see which device this Tensor is placed on using its `device` attribute."
   ]
  },
  {
   "cell_type": "code",
   "execution_count": 7,
   "metadata": {
    "colab": {
     "base_uri": "https://localhost:8080/",
     "height": 35
    },
    "id": "iLSbukXa0oYH",
    "outputId": "a0a93750-8499-4a7b-9215-40ae33b54caa"
   },
   "outputs": [
    {
     "data": {
      "text/plain": [
       "'/job:localhost/replica:0/task:0/device:CPU:0'"
      ]
     },
     "execution_count": 7,
     "metadata": {},
     "output_type": "execute_result"
    }
   ],
   "source": [
    "# Get the Tensor device\n",
    "\n",
    "x.device"
   ]
  },
  {
   "cell_type": "markdown",
   "metadata": {
    "id": "8uVDrVK60oYM"
   },
   "source": [
    "The above string will end with `'GPU:K'` if the Tensor is placed on the `K`-th GPU device. We can also check if a tensor is placed on a specific device by using `device_endswith`:"
   ]
  },
  {
   "cell_type": "code",
   "execution_count": 8,
   "metadata": {
    "colab": {
     "base_uri": "https://localhost:8080/"
    },
    "id": "n0ceL5Qy0oYN",
    "outputId": "76aded73-b0c2-44e0-a579-16803de88bff"
   },
   "outputs": [
    {
     "name": "stdout",
     "output_type": "stream",
     "text": [
      "Is the Tensor on CPU #0:  \n",
      "True\n",
      "\n",
      "Is the Tensor on GPU #0:  \n",
      "False\n"
     ]
    }
   ],
   "source": [
    "# Test for device allocation\n",
    "\n",
    "print(\"Is the Tensor on CPU #0:  \"),\n",
    "print(x.device.endswith('CPU:0'))\n",
    "print('')\n",
    "print(\"Is the Tensor on GPU #0:  \"),\n",
    "print(x.device.endswith('GPU:0'))"
   ]
  },
  {
   "cell_type": "markdown",
   "metadata": {
    "id": "GtEi2qnK4LyO"
   },
   "source": [
    "## Specifying device placement"
   ]
  },
  {
   "cell_type": "markdown",
   "metadata": {
    "id": "33SlBwIA0oYQ"
   },
   "source": [
    "As mentioned previously, TensorFlow will automatically allocate Tensor operations to specific devices. However, it is possible to force placement on specific devices, if they are available. \n",
    "\n",
    "We can view the benefits of GPU acceleration by running some tests and placing the operations on the CPU or GPU respectively."
   ]
  },
  {
   "cell_type": "code",
   "execution_count": 9,
   "metadata": {
    "id": "wEfz4RY90oYR"
   },
   "outputs": [],
   "source": [
    "# Define simple tests to time computation speed\n",
    "\n",
    "import time\n",
    "\n",
    "def time_matadd(x):\n",
    "    start = time.time()\n",
    "    for loop in range(10):\n",
    "        tf.add(x, x)\n",
    "    result = time.time()-start\n",
    "    print(\"Matrix addition (10 loops): {:0.2f}ms\".format(1000*result))\n",
    "\n",
    "\n",
    "def time_matmul(x):\n",
    "    start = time.time()\n",
    "    for loop in range(10):\n",
    "        tf.matmul(x, x)\n",
    "    result = time.time()-start\n",
    "    print(\"Matrix multiplication (10 loops): {:0.2f}ms\".format(1000*result))"
   ]
  },
  {
   "cell_type": "markdown",
   "metadata": {
    "id": "wEd85pdw5N6c"
   },
   "source": [
    "In the following cell, we run the above tests inside the context `with tf.device(\"CPU:0\")`, which forces the operations to be run on the CPU."
   ]
  },
  {
   "cell_type": "code",
   "execution_count": 10,
   "metadata": {
    "colab": {
     "base_uri": "https://localhost:8080/"
    },
    "id": "rB5Z1iUT0oYU",
    "outputId": "394f6eb3-27fa-471a-c5eb-457057ad71f6"
   },
   "outputs": [
    {
     "name": "stdout",
     "output_type": "stream",
     "text": [
      "On CPU:\n",
      "Matrix addition (10 loops): 36.43ms\n",
      "Matrix multiplication (10 loops): 262.25ms\n"
     ]
    }
   ],
   "source": [
    "# Force execution on CPU\n",
    "\n",
    "print(\"On CPU:\")\n",
    "with tf.device(\"CPU:0\"):\n",
    "    x = tf.random.uniform([1000, 1000])\n",
    "    assert x.device.endswith(\"CPU:0\")\n",
    "    time_matadd(x)\n",
    "    time_matmul(x)"
   ]
  },
  {
   "cell_type": "markdown",
   "metadata": {
    "id": "PN3ZHIMD50kB"
   },
   "source": [
    "And now run the same operations on the GPU:"
   ]
  },
  {
   "cell_type": "code",
   "execution_count": 11,
   "metadata": {
    "colab": {
     "base_uri": "https://localhost:8080/"
    },
    "id": "c7AryQq60oYY",
    "outputId": "e418af94-e3b2-48ff-afe3-361ba7632527"
   },
   "outputs": [],
   "source": [
    "# Force execution on GPU #0 if available\n",
    "\n",
    "if tf.config.experimental.list_physical_devices(\"GPU\"):\n",
    "    print(\"On GPU:\")\n",
    "    with tf.device(\"GPU:0\"): \n",
    "        x = tf.random.uniform([1000, 1000])\n",
    "        assert x.device.endswith(\"GPU:0\")\n",
    "        time_matadd(x)\n",
    "        time_matmul(x)"
   ]
  },
  {
   "cell_type": "markdown",
   "metadata": {
    "id": "bqJR83G354Zh"
   },
   "source": [
    "Note the significant time difference between running these operations on different devices."
   ]
  },
  {
   "cell_type": "markdown",
   "metadata": {
    "id": "hFOJkxMk-HL_"
   },
   "source": [
    "## Model training"
   ]
  },
  {
   "cell_type": "markdown",
   "metadata": {
    "id": "4gBgorhv-HWE"
   },
   "source": [
    "Finally, we will demonstrate that GPU device placement offers speedup benefits for model training."
   ]
  },
  {
   "cell_type": "code",
   "execution_count": 12,
   "metadata": {
    "colab": {
     "base_uri": "https://localhost:8080/"
    },
    "id": "Qa7Vvbne6QS8",
    "outputId": "ef00c160-5e15-4681-fb69-dbaaf58219cc"
   },
   "outputs": [],
   "source": [
    "# Load the MNIST dataset\n",
    "\n",
    "from tensorflow.keras.datasets import mnist\n",
    "import numpy as np\n",
    "\n",
    "(x_train, y_train), (x_test, y_test) = mnist.load_data()\n",
    "x_train, x_test = x_train/255., x_test/255."
   ]
  },
  {
   "cell_type": "code",
   "execution_count": 13,
   "metadata": {
    "id": "kJgFyw0567Dn"
   },
   "outputs": [],
   "source": [
    "# Reduce the dataset size to speed up the test\n",
    "\n",
    "x_train, y_train = x_train[:1000], y_train[:1000]"
   ]
  },
  {
   "cell_type": "code",
   "execution_count": 14,
   "metadata": {
    "id": "2vD2d7al4_VZ"
   },
   "outputs": [],
   "source": [
    "# Define a function to build the model\n",
    "\n",
    "from tensorflow.keras import layers\n",
    "from tensorflow.keras.models import  Sequential\n",
    "\n",
    "def get_model():\n",
    "  model = Sequential([\n",
    "      layers.Conv2D(32, (3, 3), activation='relu', padding='same', input_shape=(28, 28, 1)),\n",
    "      layers.MaxPooling2D((2, 2)),\n",
    "      layers.Conv2D(64, (3, 3), activation='relu', padding='same'),\n",
    "      layers.MaxPooling2D((2, 2)),\n",
    "      layers.Conv2D(128, (3, 3), activation='relu', padding='same'),\n",
    "      layers.MaxPooling2D((2, 2)),\n",
    "      layers.Flatten(),\n",
    "      layers.Dense(64, activation='relu'),\n",
    "      layers.Dense(10, activation='softmax'),\n",
    "      ])\n",
    "  return model"
   ]
  },
  {
   "cell_type": "code",
   "execution_count": 15,
   "metadata": {
    "colab": {
     "base_uri": "https://localhost:8080/"
    },
    "id": "bxEcTFQb7hRt",
    "outputId": "ba2533d6-3a52-48c6-8350-7dc6e3390055"
   },
   "outputs": [
    {
     "name": "stdout",
     "output_type": "stream",
     "text": [
      "CPU training time: 10473.04ms\n"
     ]
    }
   ],
   "source": [
    "# Time a training run on the CPU\n",
    "\n",
    "with tf.device(\"CPU:0\"):\n",
    "  model = get_model()\n",
    "  model.compile(optimizer=tf.keras.optimizers.RMSprop(1e-3), loss='sparse_categorical_crossentropy', metrics=['accuracy'])\n",
    "  start = time.time()\n",
    "  model.fit(x_train[..., np.newaxis], y_train, epochs=5, verbose=0)\n",
    "  result = time.time() - start\n",
    "\n",
    "print(\"CPU training time: {:0.2f}ms\".format(1000 * result))"
   ]
  },
  {
   "cell_type": "code",
   "execution_count": 16,
   "metadata": {
    "colab": {
     "base_uri": "https://localhost:8080/"
    },
    "id": "R9_G4sak5dHB",
    "outputId": "3c9798cf-e167-4b5a-fe0d-4574b3fe4791"
   },
   "outputs": [
    {
     "name": "stdout",
     "output_type": "stream",
     "text": [
      "GPU training time: 6873.84ms\n"
     ]
    }
   ],
   "source": [
    "# Time a training run on the GPU\n",
    "\n",
    "with tf.device(\"GPU:0\"):\n",
    "  model = get_model()\n",
    "  model.compile(optimizer=tf.keras.optimizers.RMSprop(1e-3), loss='sparse_categorical_crossentropy', metrics=['accuracy'])\n",
    "  start = time.time()\n",
    "  model.fit(x_train[..., np.newaxis], y_train, epochs=5, verbose=0)\n",
    "  result = time.time() - start\n",
    "\n",
    "print(\"GPU training time: {:0.2f}ms\".format(1000 * result))"
   ]
  },
  {
   "cell_type": "markdown",
   "metadata": {
    "id": "e_O9D-XI0oYa"
   },
   "source": [
    "## Further reading and resources \n",
    "* https://www.tensorflow.org/tutorials/customization/basics#gpu_acceleration"
   ]
  }
 ],
 "metadata": {
  "colab": {
   "name": "[EN]Lab 12.4-Device placement.ipynb",
   "provenance": []
  },
  "kernelspec": {
   "display_name": "Python 3",
   "language": "python",
   "name": "python3"
  },
  "language_info": {
   "codemirror_mode": {
    "name": "ipython",
    "version": 3
   },
   "file_extension": ".py",
   "mimetype": "text/x-python",
   "name": "python",
   "nbconvert_exporter": "python",
   "pygments_lexer": "ipython3",
   "version": "3.7.3"
  }
 },
 "nbformat": 4,
 "nbformat_minor": 4
}
